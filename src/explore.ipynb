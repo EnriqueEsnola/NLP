{
    "cells": [
        {
            "cell_type": "markdown",
            "metadata": {},
            "source": [
                "# Explore here"
            ]
        },
        {
            "cell_type": "code",
            "execution_count": 5,
            "metadata": {},
            "outputs": [
                {
                    "name": "stderr",
                    "output_type": "stream",
                    "text": [
                        "[nltk_data] Downloading package stopwords to /home/vscode/nltk_data...\n",
                        "[nltk_data]   Package stopwords is already up-to-date!\n",
                        "[nltk_data] Downloading package wordnet to /home/vscode/nltk_data...\n",
                        "[nltk_data]   Package wordnet is already up-to-date!\n"
                    ]
                }
            ],
            "source": [
                "import pandas as pd\n",
                "\n",
                "import re\n",
                "\n",
                "import nltk\n",
                "from nltk.corpus import stopwords\n",
                "nltk.download('stopwords');\n",
                "from nltk.stem import WordNetLemmatizer\n",
                "nltk.download('wordnet');\n",
                "\n",
                "from tqdm import tqdm\n",
                "tqdm.pandas();\n",
                "\n",
                "from wordcloud import WordCloud\n",
                "\n",
                "import matplotlib.pyplot as plt\n",
                "\n",
                "from sklearn.model_selection import train_test_split\n",
                "\n",
                "from sklearn.feature_extraction.text import TfidfVectorizer\n",
                "\n",
                "from sklearn.svm import SVC\n",
                "\n",
                "from sklearn.model_selection import GridSearchCV, RandomizedSearchCV\n",
                "\n",
                "from sklearn.metrics import classification_report, accuracy_score\n",
                "\n",
                "from scipy.stats import uniform"
            ]
        },
        {
            "cell_type": "code",
            "execution_count": 6,
            "metadata": {},
            "outputs": [
                {
                    "data": {
                        "text/html": [
                            "<div>\n",
                            "<style scoped>\n",
                            "    .dataframe tbody tr th:only-of-type {\n",
                            "        vertical-align: middle;\n",
                            "    }\n",
                            "\n",
                            "    .dataframe tbody tr th {\n",
                            "        vertical-align: top;\n",
                            "    }\n",
                            "\n",
                            "    .dataframe thead th {\n",
                            "        text-align: right;\n",
                            "    }\n",
                            "</style>\n",
                            "<table border=\"1\" class=\"dataframe\">\n",
                            "  <thead>\n",
                            "    <tr style=\"text-align: right;\">\n",
                            "      <th></th>\n",
                            "      <th>url</th>\n",
                            "      <th>is_spam</th>\n",
                            "    </tr>\n",
                            "  </thead>\n",
                            "  <tbody>\n",
                            "    <tr>\n",
                            "      <th>0</th>\n",
                            "      <td>https://briefingday.us8.list-manage.com/unsubs...</td>\n",
                            "      <td>True</td>\n",
                            "    </tr>\n",
                            "    <tr>\n",
                            "      <th>1</th>\n",
                            "      <td>https://www.hvper.com/</td>\n",
                            "      <td>True</td>\n",
                            "    </tr>\n",
                            "    <tr>\n",
                            "      <th>2</th>\n",
                            "      <td>https://briefingday.com/m/v4n3i4f3</td>\n",
                            "      <td>True</td>\n",
                            "    </tr>\n",
                            "    <tr>\n",
                            "      <th>3</th>\n",
                            "      <td>https://briefingday.com/n/20200618/m#commentform</td>\n",
                            "      <td>False</td>\n",
                            "    </tr>\n",
                            "    <tr>\n",
                            "      <th>4</th>\n",
                            "      <td>https://briefingday.com/fan</td>\n",
                            "      <td>True</td>\n",
                            "    </tr>\n",
                            "  </tbody>\n",
                            "</table>\n",
                            "</div>"
                        ],
                        "text/plain": [
                            "                                                 url  is_spam\n",
                            "0  https://briefingday.us8.list-manage.com/unsubs...     True\n",
                            "1                             https://www.hvper.com/     True\n",
                            "2                 https://briefingday.com/m/v4n3i4f3     True\n",
                            "3   https://briefingday.com/n/20200618/m#commentform    False\n",
                            "4                        https://briefingday.com/fan     True"
                        ]
                    },
                    "execution_count": 6,
                    "metadata": {},
                    "output_type": "execute_result"
                }
            ],
            "source": [
                "\n",
                "df = pd.read_csv ('https://raw.githubusercontent.com/4GeeksAcademy/NLP-project-tutorial/main/url_spam.csv', sep = \",\");\n",
                "\n",
                "pd.set_option('display.max_columns', None);\n",
                "\n",
                "df.head()"
            ]
        },
        {
            "cell_type": "code",
            "execution_count": null,
            "metadata": {},
            "outputs": [
                {
                    "data": {
                        "text/plain": [
                            "2999"
                        ]
                    },
                    "execution_count": 7,
                    "metadata": {},
                    "output_type": "execute_result"
                }
            ],
            "source": [
                "# Numero de URLS\n",
                "df.shape[0]"
            ]
        },
        {
            "cell_type": "code",
            "execution_count": null,
            "metadata": {},
            "outputs": [
                {
                    "name": "stdout",
                    "output_type": "stream",
                    "text": [
                        "url        object\n",
                        "is_spam      bool\n",
                        "dtype: object\n"
                    ]
                }
            ],
            "source": [
                "# Tipod de variables\n",
                "print(df.dtypes)"
            ]
        },
        {
            "cell_type": "markdown",
            "metadata": {},
            "source": [
                "Codificamos la variable objetivo "
            ]
        },
        {
            "cell_type": "code",
            "execution_count": 9,
            "metadata": {},
            "outputs": [],
            "source": [
                "df['is_spam'] = df['is_spam'].astype(bool).map({True: 1, False: 0})"
            ]
        },
        {
            "cell_type": "code",
            "execution_count": null,
            "metadata": {},
            "outputs": [
                {
                    "data": {
                        "text/plain": [
                            "np.int64(630)"
                        ]
                    },
                    "execution_count": 10,
                    "metadata": {},
                    "output_type": "execute_result"
                }
            ],
            "source": [
                "# Buscamos duplicadas\n",
                "df.duplicated().sum()"
            ]
        },
        {
            "cell_type": "code",
            "execution_count": null,
            "metadata": {},
            "outputs": [
                {
                    "data": {
                        "text/plain": [
                            "np.int64(0)"
                        ]
                    },
                    "execution_count": 13,
                    "metadata": {},
                    "output_type": "execute_result"
                }
            ],
            "source": [
                "\n",
                "df_clean = df.drop_duplicates();\n",
                "\n",
                "df_clean.duplicated().sum()"
            ]
        },
        {
            "cell_type": "markdown",
            "metadata": {},
            "source": [
                "PROCESADO DEL TEXTO \n"
            ]
        },
        {
            "cell_type": "code",
            "execution_count": 17,
            "metadata": {},
            "outputs": [],
            "source": [
                "def preprocess_text (url):\n",
                "\n",
                "    url = url.lower();\n",
                "      \n",
                "    url = re.sub(r'https?://|www\\.', '', url); # Borrado de Protocolo Web (http, https, www)\n",
                "    url = re.sub(r'\\s*\\d+\\s*', ' ', url);  # Borrado de números aislados\n",
                "    url = re.sub(r'\\b[a-zA-Z]*\\d+[a-zA-Z]*\\b', ' ', url);  # Borramos palabras que tengan letras y numeros mezclados\n",
                "    url = re.sub(r'#.*', ' ', url); # Borramos signos\n",
                "    url = re.sub(r'\\b[a-zA-Z]\\b', '', url); # Borramos letras aisladas\n",
                "\n",
                "    # Segmentamos los URLs\n",
                "    tokens = re.split(r'[\\/\\.\\?\\=\\&\\-_]', url);\n",
                "    \n",
                "    # Eliminamos las Stop Words\n",
                "    stop_words = set(stopwords.words('english'));\n",
                "    tokens = [token for token in tokens if token not in stop_words]; \n",
                "\n",
                "    # Lematización de palabras\n",
                "    lemmatizer = WordNetLemmatizer(); \n",
                "    tokens = [lemmatizer.lemmatize(token) for token in tokens]; \n",
                "\n",
                "    # Eliminamos espacios y letras sueltas\n",
                "    tokens = [token.strip() for token in tokens if token and len(token) > 1]; # Longuitudes de que sean mayor a 1\n",
                "\n",
                "    return ' '.join(tokens);"
            ]
        },
        {
            "cell_type": "code",
            "execution_count": 28,
            "metadata": {},
            "outputs": [
                {
                    "name": "stdout",
                    "output_type": "stream",
                    "text": [
                        "URL preprocesada:\n",
                        " https://www.vox.com/culture/21294429/eurovision-review-interview-will-ferrell-rachel-mcadams-netflix\n",
                        "--------------------------------------------------\n",
                        "URL post:\n",
                        " vox com culture eurovision review interview ferrell rachel mcadams netflix\n"
                    ]
                }
            ],
            "source": [
                "\n",
                "url_random = df_clean.sample(1).url.values[0];\n",
                "\n",
                "print(f'URL preprocesada:\\n {url_random}');\n",
                "print('-'*50);\n",
                "\n",
                "url_random_prepro = preprocess_text(url_random);\n",
                "\n",
                "\n",
                "print(f'URL post:\\n {url_random_prepro}');"
            ]
        },
        {
            "cell_type": "code",
            "execution_count": 29,
            "metadata": {},
            "outputs": [
                {
                    "name": "stderr",
                    "output_type": "stream",
                    "text": [
                        "100%|██████████| 2369/2369 [00:00<00:00, 8039.47it/s]\n",
                        "/tmp/ipykernel_5350/1906112549.py:2: SettingWithCopyWarning: \n",
                        "A value is trying to be set on a copy of a slice from a DataFrame.\n",
                        "Try using .loc[row_indexer,col_indexer] = value instead\n",
                        "\n",
                        "See the caveats in the documentation: https://pandas.pydata.org/pandas-docs/stable/user_guide/indexing.html#returning-a-view-versus-a-copy\n",
                        "  df_clean['url_postpro'] = df_clean['url'].progress_apply(preprocess_text);\n"
                    ]
                }
            ],
            "source": [
                "# Creamos una nueva columna con el URL procesado\n",
                "df_clean['url_postpro'] = df_clean['url'].progress_apply(preprocess_text);"
            ]
        },
        {
            "cell_type": "code",
            "execution_count": 30,
            "metadata": {},
            "outputs": [],
            "source": [
                "# Borramos la columna url\n",
                "df_clean = df_clean.drop(['url'], axis = 1);"
            ]
        },
        {
            "cell_type": "code",
            "execution_count": 31,
            "metadata": {},
            "outputs": [
                {
                    "data": {
                        "text/html": [
                            "<div>\n",
                            "<style scoped>\n",
                            "    .dataframe tbody tr th:only-of-type {\n",
                            "        vertical-align: middle;\n",
                            "    }\n",
                            "\n",
                            "    .dataframe tbody tr th {\n",
                            "        vertical-align: top;\n",
                            "    }\n",
                            "\n",
                            "    .dataframe thead th {\n",
                            "        text-align: right;\n",
                            "    }\n",
                            "</style>\n",
                            "<table border=\"1\" class=\"dataframe\">\n",
                            "  <thead>\n",
                            "    <tr style=\"text-align: right;\">\n",
                            "      <th></th>\n",
                            "      <th>is_spam</th>\n",
                            "      <th>url_postpro</th>\n",
                            "    </tr>\n",
                            "  </thead>\n",
                            "  <tbody>\n",
                            "    <tr>\n",
                            "      <th>0</th>\n",
                            "      <td>1</td>\n",
                            "      <td>briefingday us list manage com unsubscribe</td>\n",
                            "    </tr>\n",
                            "    <tr>\n",
                            "      <th>1</th>\n",
                            "      <td>1</td>\n",
                            "      <td>hvper com</td>\n",
                            "    </tr>\n",
                            "    <tr>\n",
                            "      <th>2</th>\n",
                            "      <td>1</td>\n",
                            "      <td>briefingday com</td>\n",
                            "    </tr>\n",
                            "    <tr>\n",
                            "      <th>3</th>\n",
                            "      <td>0</td>\n",
                            "      <td>briefingday com</td>\n",
                            "    </tr>\n",
                            "    <tr>\n",
                            "      <th>4</th>\n",
                            "      <td>1</td>\n",
                            "      <td>briefingday com fan</td>\n",
                            "    </tr>\n",
                            "    <tr>\n",
                            "      <th>...</th>\n",
                            "      <td>...</td>\n",
                            "      <td>...</td>\n",
                            "    </tr>\n",
                            "    <tr>\n",
                            "      <th>2993</th>\n",
                            "      <td>0</td>\n",
                            "      <td>theverge com disney deepfake face swapping res...</td>\n",
                            "    </tr>\n",
                            "    <tr>\n",
                            "      <th>2994</th>\n",
                            "      <td>0</td>\n",
                            "      <td>smartcitiesworld net news news deepfake techno...</td>\n",
                            "    </tr>\n",
                            "    <tr>\n",
                            "      <th>2996</th>\n",
                            "      <td>0</td>\n",
                            "      <td>techcrunch com optimistic view deepfakes</td>\n",
                            "    </tr>\n",
                            "    <tr>\n",
                            "      <th>2997</th>\n",
                            "      <td>0</td>\n",
                            "      <td>technologyreview com startup claim deepfakes p...</td>\n",
                            "    </tr>\n",
                            "    <tr>\n",
                            "      <th>2998</th>\n",
                            "      <td>0</td>\n",
                            "      <td>bbc com news technology</td>\n",
                            "    </tr>\n",
                            "  </tbody>\n",
                            "</table>\n",
                            "<p>2369 rows × 2 columns</p>\n",
                            "</div>"
                        ],
                        "text/plain": [
                            "      is_spam                                        url_postpro\n",
                            "0           1         briefingday us list manage com unsubscribe\n",
                            "1           1                                          hvper com\n",
                            "2           1                                   briefingday com \n",
                            "3           0                                    briefingday com\n",
                            "4           1                                briefingday com fan\n",
                            "...       ...                                                ...\n",
                            "2993        0  theverge com disney deepfake face swapping res...\n",
                            "2994        0  smartcitiesworld net news news deepfake techno...\n",
                            "2996        0           techcrunch com optimistic view deepfakes\n",
                            "2997        0  technologyreview com startup claim deepfakes p...\n",
                            "2998        0                            bbc com news technology\n",
                            "\n",
                            "[2369 rows x 2 columns]"
                        ]
                    },
                    "execution_count": 31,
                    "metadata": {},
                    "output_type": "execute_result"
                }
            ],
            "source": [
                "df_clean"
            ]
        },
        {
            "cell_type": "code",
            "execution_count": 32,
            "metadata": {},
            "outputs": [
                {
                    "data": {
                        "text/plain": [
                            "np.int64(80)"
                        ]
                    },
                    "execution_count": 32,
                    "metadata": {},
                    "output_type": "execute_result"
                }
            ],
            "source": [
                "# Analizamos nuevamente los duplicados post procesamiento\n",
                "df_clean.duplicated().sum()"
            ]
        },
        {
            "cell_type": "code",
            "execution_count": 33,
            "metadata": {},
            "outputs": [],
            "source": [
                "df_postpro = df_clean.drop_duplicates();"
            ]
        },
        {
            "cell_type": "code",
            "execution_count": null,
            "metadata": {},
            "outputs": [],
            "source": [
                "# Separacion Train Test\n",
                "X_train, X_test, y_train, y_test = train_test_split(df_postpro ['url_postpro'], df_postpro ['is_spam'], test_size = 0.2, random_state = 42);"
            ]
        },
        {
            "cell_type": "code",
            "execution_count": 35,
            "metadata": {},
            "outputs": [],
            "source": [
                "\n",
                "vectorizer = TfidfVectorizer();\n",
                "\n",
                "X_train_vec = vectorizer.fit_transform(X_train);\n",
                "\n",
                "X_test_vec = vectorizer.transform(X_test)"
            ]
        },
        {
            "cell_type": "markdown",
            "metadata": {},
            "source": [
                "MODELO SIN OPTIMIZAR"
            ]
        },
        {
            "cell_type": "code",
            "execution_count": 36,
            "metadata": {},
            "outputs": [
                {
                    "name": "stdout",
                    "output_type": "stream",
                    "text": [
                        "\n",
                        " Métricas de la Predicción+:\n",
                        "              precision    recall  f1-score   support\n",
                        "\n",
                        "           0       0.94      0.99      0.96       412\n",
                        "           1       0.86      0.39      0.54        46\n",
                        "\n",
                        "    accuracy                           0.93       458\n",
                        "   macro avg       0.90      0.69      0.75       458\n",
                        "weighted avg       0.93      0.93      0.92       458\n",
                        "\n",
                        " Exactitud: 93.23 %\n"
                    ]
                }
            ],
            "source": [
                "\n",
                "svm_model = SVC();\n",
                "\n",
                "\n",
                "svm_model.fit(X_train_vec, y_train);\n",
                "\n",
                "y_pred = svm_model.predict(X_test_vec);\n",
                "\n",
                "\n",
                "print(\"\\n Métricas de la Predicción+:\");\n",
                "print(classification_report(y_test, y_pred));\n",
                "print(f\" Exactitud: {round(100*accuracy_score(y_test, y_pred), 2)} %\");"
            ]
        },
        {
            "cell_type": "markdown",
            "metadata": {},
            "source": [
                "El modelo tiene una alta precisión general (93%), pero detecta mal los casos de SPAM. Aunque acierta en un 86% cuando dice que algo es SPAM, solo identifica correctamente el 39% de todos los SPAM reales, lo que indica un fuerte sesgo hacia los NO SPAM."
            ]
        },
        {
            "cell_type": "markdown",
            "metadata": {},
            "source": [
                "MODELO OPTIMIZADO"
            ]
        },
        {
            "cell_type": "code",
            "execution_count": 37,
            "metadata": {},
            "outputs": [
                {
                    "name": "stdout",
                    "output_type": "stream",
                    "text": [
                        "Fitting 5 folds for each of 64 candidates, totalling 320 fits\n",
                        "\n",
                        "\n",
                        "Mejores hiperparámetros: {'C': 10, 'gamma': 0.1, 'kernel': 'rbf'}\n",
                        "\n",
                        "\n",
                        "\n",
                        " Métricas de la Predicción - Con Optimización (GridSearch):\n",
                        "              precision    recall  f1-score   support\n",
                        "\n",
                        "           0       0.96      0.96      0.96       412\n",
                        "           1       0.62      0.63      0.62        46\n",
                        "\n",
                        "    accuracy                           0.92       458\n",
                        "   macro avg       0.79      0.79      0.79       458\n",
                        "weighted avg       0.92      0.92      0.92       458\n",
                        "\n",
                        " Exactitud: 92.36 %\n"
                    ]
                }
            ],
            "source": [
                "\n",
                "svm_model = SVC();\n",
                "\n",
                "param_grid = {\n",
                "    'C': [0.1, 1, 10, 100],\n",
                "    'kernel': ['linear', 'poly', 'rbf', 'sigmoid'],\n",
                "    'gamma': ['scale', 'auto', 0.1, 1]\n",
                "};\n",
                "\n",
                "grid_search = GridSearchCV(estimator = svm_model, param_grid = param_grid, cv = 5, verbose = 1, n_jobs = -1);\n",
                "\n",
                "grid_search.fit(X_train_vec, y_train);\n",
                "\n",
                "print(f\"\\n\\nMejores hiperparámetros: {grid_search.best_params_}\\n\\n\");\n",
                "\n",
                "best_grid_SVC= grid_search.best_estimator_;\n",
                "\n",
                "y_pred_grid = best_grid_SVC.predict(X_test_vec);\n",
                "\n",
                "print(\"\\n Métricas de la Predicción - Con Optimización (GridSearch):\");\n",
                "print(classification_report(y_test, y_pred_grid));\n",
                "print(f\" Exactitud: {round(100*accuracy_score(y_test, y_pred_grid), 2)} %\");"
            ]
        },
        {
            "cell_type": "markdown",
            "metadata": {},
            "source": [
                "Tras aplicar GridSearch, la precisión general bajó ligeramente, pero el modelo mejoró mucho en detectar SPAM: el Recall subió del 39% al 63%. Aunque esto trajo más falsos positivos, permitió identificar más mensajes SPAM que antes pasaban desapercibidos."
            ]
        }
    ],
    "metadata": {
        "kernelspec": {
            "display_name": "Python 3",
            "language": "python",
            "name": "python3"
        },
        "language_info": {
            "codemirror_mode": {
                "name": "ipython",
                "version": 3
            },
            "file_extension": ".py",
            "mimetype": "text/x-python",
            "name": "python",
            "nbconvert_exporter": "python",
            "pygments_lexer": "ipython3",
            "version": "3.11.4"
        },
        "orig_nbformat": 4
    },
    "nbformat": 4,
    "nbformat_minor": 2
}
